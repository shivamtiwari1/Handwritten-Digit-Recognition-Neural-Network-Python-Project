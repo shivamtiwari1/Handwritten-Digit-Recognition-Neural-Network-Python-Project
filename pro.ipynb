{
 "cells": [
  {
   "cell_type": "code",
   "execution_count": null,
   "id": "c7aaa075",
   "metadata": {},
   "outputs": [],
   "source": [
    "import numpy as np\n",
    "import matplotlib.pyplot as plt\n",
    "\n",
    "import keras\n",
    "\n",
    "from keras.datasets import mnist\n",
    "\n",
    "from keras.models import Sequential\n",
    "from keras.layers import Dense, Conv2D, MaxPool2D, Flatten, Dropout"
   ]
  },
  {
   "cell_type": "markdown",
   "id": "b16078d4",
   "metadata": {},
   "source": [
    "get the data and preprocess it"
   ]
  },
  {
   "cell_type": "code",
   "execution_count": null,
   "id": "db1a8d17",
   "metadata": {},
   "outputs": [],
   "source": [
    "(x_train, y_train), (x_test, y_test) = mnist.load_data()\n",
    "\n",
    "x_train.shape, y_train.shape, x_test.shape, y_test.shape"
   ]
  },
  {
   "cell_type": "code",
   "execution_count": null,
   "id": "d48105d9",
   "metadata": {},
   "outputs": [],
   "source": [
    "def plot_input_img(i):\n",
    "    plt.imshow(x_train[i], cmap='binary')\n",
    "    plt.title(y_train[i])\n",
    "    plt.show()"
   ]
  },
  {
   "cell_type": "code",
   "execution_count": null,
   "id": "7cd128f9",
   "metadata": {},
   "outputs": [],
   "source": [
    "for i in range(10):\n",
    "    plot_input_img(i)"
   ]
  },
  {
   "cell_type": "code",
   "execution_count": null,
   "id": "9a07c93c",
   "metadata": {},
   "outputs": [],
   "source": [
    "# Pre process the images\n",
    "\n",
    "# normalizing the image to [0,1] range\n",
    "\n",
    "x_train = x_train.astype(np.float32)/255\n",
    "x_test = x_test.astype(np.float32)/255\n",
    "\n",
    "# Reshap / expand the dimentions of images to (28,28,1)\n",
    "\n",
    "x_train = np.expand_dims(x_train,-1)\n",
    "x_test = np.expand_dims(x_train,-1)\n",
    "\n",
    "# convet classes to one hot vectors\n",
    "y_train = keras.utils.to_categorical(y_train)\n",
    "\n",
    "y_test = keras.utils.to_categorical(y_test)"
   ]
  },
  {
   "cell_type": "code",
   "execution_count": null,
   "id": "09fbc914",
   "metadata": {},
   "outputs": [],
   "source": [
    "model = Sequential()\n",
    "\n",
    "model.add(Conv2D(32,(3,3),input_shape =(28,28,1), activation='relu'))\n",
    "model.add(MaxPool2D(2,2))\n",
    "\n",
    "\n",
    "model.add(Conv2D(64,(3,3) , activation='relu'))\n",
    "model.add(MaxPool2D(2,2))\n",
    "\n",
    "model.add(Flatten())\n",
    "\n",
    "model.add(Dropout(0.25))\n",
    "\n",
    "model.add(Dense(10, activation=(\"softmax\")))\n"
   ]
  },
  {
   "cell_type": "code",
   "execution_count": null,
   "id": "c264ba45",
   "metadata": {},
   "outputs": [],
   "source": [
    "model.summary()"
   ]
  },
  {
   "cell_type": "code",
   "execution_count": null,
   "id": "95283f6f",
   "metadata": {},
   "outputs": [],
   "source": [
    "# Callback\n",
    "from keras.callbacks import EarlyStopping, ModelCheckpoint\n",
    "\n",
    "#EarlyStopping\n",
    "es = EarlyStopping(monitor='val_acc',min_delta=0.01, patience=4, verbose=1)\n",
    "\n",
    "#model check point\n",
    "\n",
    "mc=ModelCheckpoint('./bestmodel.h5',monitor=\"val_acc\",verbose=1,save_best_only=True)\n",
    "\n",
    "cb=[es,mc]"
   ]
  },
  {
   "cell_type": "code",
   "execution_count": null,
   "id": "65963611",
   "metadata": {},
   "outputs": [],
   "source": [
    "model.compile(optimizer='adam',loss= keras.losses.categorical_crossentropy, metrics=['accuracy'])"
   ]
  },
  {
   "cell_type": "markdown",
   "id": "8861a34a",
   "metadata": {},
   "source": [
    "Model Training\n"
   ]
  },
  {
   "cell_type": "code",
   "execution_count": null,
   "id": "6bb0fc12",
   "metadata": {},
   "outputs": [],
   "source": [
    "his = model.fit(x_train,y_train, epochs=50, validation_split=0.3)\n",
    "model.save('Handwritten-Digit-Recognition-Neural-Network-Python-Project\\handwritten.h5')"
   ]
  },
  {
   "cell_type": "code",
   "execution_count": 21,
   "id": "9ca5bcc4",
   "metadata": {},
   "outputs": [
    {
     "name": "stdout",
     "output_type": "stream",
     "text": [
      "x_test shape: (60000, 28, 28, 1, 1)\n",
      "y_test shape: (10000, 10)\n"
     ]
    }
   ],
   "source": [
    "print(f\"x_test shape: {x_test.shape}\")\n",
    "print(f\"y_test shape: {y_test.shape}\")"
   ]
  },
  {
   "cell_type": "code",
   "execution_count": 22,
   "id": "6dba4027",
   "metadata": {},
   "outputs": [],
   "source": [
    "min_samples = min(x_test.shape[0], y_test.shape[0])\n",
    "x_test = x_test[:min_samples]\n",
    "y_test = y_test[:min_samples]"
   ]
  },
  {
   "cell_type": "code",
   "execution_count": 23,
   "id": "57984eac",
   "metadata": {},
   "outputs": [
    {
     "name": "stdout",
     "output_type": "stream",
     "text": [
      "\u001b[1m313/313\u001b[0m \u001b[32m━━━━━━━━━━━━━━━━━━━━\u001b[0m\u001b[37m\u001b[0m \u001b[1m2s\u001b[0m 4ms/step - accuracy: 0.0988 - loss: 42.9084\n",
      "The model accuracy is 0.10080000013113022\n"
     ]
    }
   ],
   "source": [
    "score = model_s.evaluate(x_test, y_test)\n",
    "\n",
    "print(f\"The model accuracy is {score[1]}\")"
   ]
  }
 ],
 "metadata": {
  "kernelspec": {
   "display_name": "Python 3",
   "language": "python",
   "name": "python3"
  },
  "language_info": {
   "codemirror_mode": {
    "name": "ipython",
    "version": 3
   },
   "file_extension": ".py",
   "mimetype": "text/x-python",
   "name": "python",
   "nbconvert_exporter": "python",
   "pygments_lexer": "ipython3",
   "version": "3.9.13"
  }
 },
 "nbformat": 4,
 "nbformat_minor": 5
}
